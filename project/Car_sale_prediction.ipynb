{
 "cells": [
  {
   "cell_type": "code",
   "execution_count": 1,
   "metadata": {
    "id": "0NXzHf7lozrR"
   },
   "outputs": [],
   "source": [
    "import pandas as pd\n",
    "import numpy as np\n",
    "import matplotlib.pyplot as plt\n",
    "import seaborn as sns\n",
    "\n",
    "from sklearn.preprocessing import  OneHotEncoder\n",
    "from sklearn.metrics import r2_score, root_mean_squared_error, mean_squared_error,mean_absolute_error\n",
    "from sklearn.ensemble import RandomForestRegressor, VotingRegressor\n",
    "from sklearn.impute import SimpleImputer\n",
    "from sklearn.compose import ColumnTransformer\n",
    "from sklearn.pipeline import Pipeline\n",
    "\n",
    "import re\n",
    "\n",
    "from scipy.stats import boxcox\n",
    "from scipy.special import inv_boxcox\n",
    "\n",
    "import warnings\n",
    "warnings.filterwarnings('ignore')"
   ]
  },
  {
   "cell_type": "code",
   "execution_count": 2,
   "metadata": {
    "id": "tX1xXdIP9AMJ"
   },
   "outputs": [],
   "source": [
    "train_data = pd.read_csv('train.csv')\n",
    "test_data = pd.read_csv('test.csv')"
   ]
  },
  {
   "cell_type": "code",
   "execution_count": 3,
   "metadata": {
    "colab": {
     "base_uri": "https://localhost:8080/"
    },
    "executionInfo": {
     "elapsed": 14,
     "status": "ok",
     "timestamp": 1753535644812,
     "user": {
      "displayName": "Asad Wani",
      "userId": "12734280750075787149"
     },
     "user_tz": -330
    },
    "id": "MhZIa9eV9c4e",
    "outputId": "46623a77-ba6a-4f01-a8ba-19580c490db2"
   },
   "outputs": [
    {
     "data": {
      "text/plain": [
       "(188533, 13)"
      ]
     },
     "execution_count": 3,
     "metadata": {},
     "output_type": "execute_result"
    }
   ],
   "source": [
    "train_data.shape"
   ]
  },
  {
   "cell_type": "code",
   "execution_count": 4,
   "metadata": {
    "colab": {
     "base_uri": "https://localhost:8080/"
    },
    "executionInfo": {
     "elapsed": 153,
     "status": "ok",
     "timestamp": 1753535644967,
     "user": {
      "displayName": "Asad Wani",
      "userId": "12734280750075787149"
     },
     "user_tz": -330
    },
    "id": "HG4mQ5zU9j-X",
    "outputId": "b0b95d82-b12e-4bb2-d25a-ba2bbc33b39a"
   },
   "outputs": [
    {
     "data": {
      "text/plain": [
       "(125690, 12)"
      ]
     },
     "execution_count": 4,
     "metadata": {},
     "output_type": "execute_result"
    }
   ],
   "source": [
    "test_data.shape"
   ]
  },
  {
   "cell_type": "code",
   "execution_count": 5,
   "metadata": {
    "colab": {
     "base_uri": "https://localhost:8080/"
    },
    "executionInfo": {
     "elapsed": 44,
     "status": "ok",
     "timestamp": 1753535645114,
     "user": {
      "displayName": "Asad Wani",
      "userId": "12734280750075787149"
     },
     "user_tz": -330
    },
    "id": "IwnFaEZK9lQJ",
    "outputId": "f8e15801-0ca0-43d7-881e-6b20f897438e"
   },
   "outputs": [
    {
     "name": "stdout",
     "output_type": "stream",
     "text": [
      "<class 'pandas.core.frame.DataFrame'>\n",
      "RangeIndex: 188533 entries, 0 to 188532\n",
      "Data columns (total 13 columns):\n",
      " #   Column        Non-Null Count   Dtype \n",
      "---  ------        --------------   ----- \n",
      " 0   id            188533 non-null  int64 \n",
      " 1   brand         188533 non-null  object\n",
      " 2   model         188533 non-null  object\n",
      " 3   model_year    188533 non-null  int64 \n",
      " 4   milage        188533 non-null  int64 \n",
      " 5   fuel_type     183450 non-null  object\n",
      " 6   engine        188533 non-null  object\n",
      " 7   transmission  188533 non-null  object\n",
      " 8   ext_col       188533 non-null  object\n",
      " 9   int_col       188533 non-null  object\n",
      " 10  accident      186081 non-null  object\n",
      " 11  clean_title   167114 non-null  object\n",
      " 12  price         188533 non-null  int64 \n",
      "dtypes: int64(4), object(9)\n",
      "memory usage: 18.7+ MB\n"
     ]
    }
   ],
   "source": [
    "train_data.info()"
   ]
  },
  {
   "cell_type": "code",
   "execution_count": 6,
   "metadata": {
    "colab": {
     "base_uri": "https://localhost:8080/",
     "height": 491
    },
    "executionInfo": {
     "elapsed": 88,
     "status": "ok",
     "timestamp": 1753535645205,
     "user": {
      "displayName": "Asad Wani",
      "userId": "12734280750075787149"
     },
     "user_tz": -330
    },
    "id": "L0In3KD09n7R",
    "outputId": "980e4eb1-d45f-418d-a1fb-4ff188d2a7f6"
   },
   "outputs": [
    {
     "data": {
      "text/plain": [
       "id                  0\n",
       "brand               0\n",
       "model               0\n",
       "model_year          0\n",
       "milage              0\n",
       "fuel_type        5083\n",
       "engine              0\n",
       "transmission        0\n",
       "ext_col             0\n",
       "int_col             0\n",
       "accident         2452\n",
       "clean_title     21419\n",
       "price               0\n",
       "dtype: int64"
      ]
     },
     "execution_count": 6,
     "metadata": {},
     "output_type": "execute_result"
    }
   ],
   "source": [
    "train_data.isnull().sum()"
   ]
  },
  {
   "cell_type": "code",
   "execution_count": 7,
   "metadata": {
    "colab": {
     "base_uri": "https://localhost:8080/",
     "height": 491
    },
    "executionInfo": {
     "elapsed": 11,
     "status": "ok",
     "timestamp": 1753535645213,
     "user": {
      "displayName": "Asad Wani",
      "userId": "12734280750075787149"
     },
     "user_tz": -330
    },
    "id": "eRYbBFEm9rnF",
    "outputId": "359b11e9-1543-4cf4-c060-f5cc200cfe8c"
   },
   "outputs": [
    {
     "data": {
      "text/plain": [
       "id               0.000000\n",
       "brand            0.000000\n",
       "model            0.000000\n",
       "model_year       0.000000\n",
       "milage           0.000000\n",
       "fuel_type        2.696080\n",
       "engine           0.000000\n",
       "transmission     0.000000\n",
       "ext_col          0.000000\n",
       "int_col          0.000000\n",
       "accident         1.300568\n",
       "clean_title     11.360876\n",
       "price            0.000000\n",
       "dtype: float64"
      ]
     },
     "execution_count": 7,
     "metadata": {},
     "output_type": "execute_result"
    }
   ],
   "source": [
    "train_data.isnull().sum()/len(train_data)*100"
   ]
  },
  {
   "cell_type": "code",
   "execution_count": 8,
   "metadata": {
    "colab": {
     "base_uri": "https://localhost:8080/",
     "height": 677
    },
    "executionInfo": {
     "elapsed": 62,
     "status": "ok",
     "timestamp": 1753535645272,
     "user": {
      "displayName": "Asad Wani",
      "userId": "12734280750075787149"
     },
     "user_tz": -330
    },
    "id": "8CL3ksyDOwsu",
    "outputId": "c6ad29b4-afff-4e99-b043-87b6e3519420"
   },
   "outputs": [
    {
     "data": {
      "text/html": [
       "<div>\n",
       "<style scoped>\n",
       "    .dataframe tbody tr th:only-of-type {\n",
       "        vertical-align: middle;\n",
       "    }\n",
       "\n",
       "    .dataframe tbody tr th {\n",
       "        vertical-align: top;\n",
       "    }\n",
       "\n",
       "    .dataframe thead th {\n",
       "        text-align: right;\n",
       "    }\n",
       "</style>\n",
       "<table border=\"1\" class=\"dataframe\">\n",
       "  <thead>\n",
       "    <tr style=\"text-align: right;\">\n",
       "      <th></th>\n",
       "      <th>id</th>\n",
       "      <th>brand</th>\n",
       "      <th>model</th>\n",
       "      <th>model_year</th>\n",
       "      <th>milage</th>\n",
       "      <th>fuel_type</th>\n",
       "      <th>engine</th>\n",
       "      <th>transmission</th>\n",
       "      <th>ext_col</th>\n",
       "      <th>int_col</th>\n",
       "      <th>accident</th>\n",
       "      <th>clean_title</th>\n",
       "      <th>price</th>\n",
       "    </tr>\n",
       "  </thead>\n",
       "  <tbody>\n",
       "    <tr>\n",
       "      <th>0</th>\n",
       "      <td>0</td>\n",
       "      <td>MINI</td>\n",
       "      <td>Cooper S Base</td>\n",
       "      <td>2007</td>\n",
       "      <td>213000</td>\n",
       "      <td>Gasoline</td>\n",
       "      <td>172.0HP 1.6L 4 Cylinder Engine Gasoline Fuel</td>\n",
       "      <td>A/T</td>\n",
       "      <td>Yellow</td>\n",
       "      <td>Gray</td>\n",
       "      <td>None reported</td>\n",
       "      <td>Yes</td>\n",
       "      <td>4200</td>\n",
       "    </tr>\n",
       "    <tr>\n",
       "      <th>1</th>\n",
       "      <td>1</td>\n",
       "      <td>Lincoln</td>\n",
       "      <td>LS V8</td>\n",
       "      <td>2002</td>\n",
       "      <td>143250</td>\n",
       "      <td>Gasoline</td>\n",
       "      <td>252.0HP 3.9L 8 Cylinder Engine Gasoline Fuel</td>\n",
       "      <td>A/T</td>\n",
       "      <td>Silver</td>\n",
       "      <td>Beige</td>\n",
       "      <td>At least 1 accident or damage reported</td>\n",
       "      <td>Yes</td>\n",
       "      <td>4999</td>\n",
       "    </tr>\n",
       "    <tr>\n",
       "      <th>2</th>\n",
       "      <td>2</td>\n",
       "      <td>Chevrolet</td>\n",
       "      <td>Silverado 2500 LT</td>\n",
       "      <td>2002</td>\n",
       "      <td>136731</td>\n",
       "      <td>E85 Flex Fuel</td>\n",
       "      <td>320.0HP 5.3L 8 Cylinder Engine Flex Fuel Capab...</td>\n",
       "      <td>A/T</td>\n",
       "      <td>Blue</td>\n",
       "      <td>Gray</td>\n",
       "      <td>None reported</td>\n",
       "      <td>Yes</td>\n",
       "      <td>13900</td>\n",
       "    </tr>\n",
       "    <tr>\n",
       "      <th>3</th>\n",
       "      <td>3</td>\n",
       "      <td>Genesis</td>\n",
       "      <td>G90 5.0 Ultimate</td>\n",
       "      <td>2017</td>\n",
       "      <td>19500</td>\n",
       "      <td>Gasoline</td>\n",
       "      <td>420.0HP 5.0L 8 Cylinder Engine Gasoline Fuel</td>\n",
       "      <td>Transmission w/Dual Shift Mode</td>\n",
       "      <td>Black</td>\n",
       "      <td>Black</td>\n",
       "      <td>None reported</td>\n",
       "      <td>Yes</td>\n",
       "      <td>45000</td>\n",
       "    </tr>\n",
       "    <tr>\n",
       "      <th>4</th>\n",
       "      <td>4</td>\n",
       "      <td>Mercedes-Benz</td>\n",
       "      <td>Metris Base</td>\n",
       "      <td>2021</td>\n",
       "      <td>7388</td>\n",
       "      <td>Gasoline</td>\n",
       "      <td>208.0HP 2.0L 4 Cylinder Engine Gasoline Fuel</td>\n",
       "      <td>7-Speed A/T</td>\n",
       "      <td>Black</td>\n",
       "      <td>Beige</td>\n",
       "      <td>None reported</td>\n",
       "      <td>Yes</td>\n",
       "      <td>97500</td>\n",
       "    </tr>\n",
       "  </tbody>\n",
       "</table>\n",
       "</div>"
      ],
      "text/plain": [
       "   id          brand              model  model_year  milage      fuel_type  \\\n",
       "0   0           MINI      Cooper S Base        2007  213000       Gasoline   \n",
       "1   1        Lincoln              LS V8        2002  143250       Gasoline   \n",
       "2   2      Chevrolet  Silverado 2500 LT        2002  136731  E85 Flex Fuel   \n",
       "3   3        Genesis   G90 5.0 Ultimate        2017   19500       Gasoline   \n",
       "4   4  Mercedes-Benz        Metris Base        2021    7388       Gasoline   \n",
       "\n",
       "                                              engine  \\\n",
       "0       172.0HP 1.6L 4 Cylinder Engine Gasoline Fuel   \n",
       "1       252.0HP 3.9L 8 Cylinder Engine Gasoline Fuel   \n",
       "2  320.0HP 5.3L 8 Cylinder Engine Flex Fuel Capab...   \n",
       "3       420.0HP 5.0L 8 Cylinder Engine Gasoline Fuel   \n",
       "4       208.0HP 2.0L 4 Cylinder Engine Gasoline Fuel   \n",
       "\n",
       "                     transmission ext_col int_col  \\\n",
       "0                             A/T  Yellow    Gray   \n",
       "1                             A/T  Silver   Beige   \n",
       "2                             A/T    Blue    Gray   \n",
       "3  Transmission w/Dual Shift Mode   Black   Black   \n",
       "4                     7-Speed A/T   Black   Beige   \n",
       "\n",
       "                                 accident clean_title  price  \n",
       "0                           None reported         Yes   4200  \n",
       "1  At least 1 accident or damage reported         Yes   4999  \n",
       "2                           None reported         Yes  13900  \n",
       "3                           None reported         Yes  45000  \n",
       "4                           None reported         Yes  97500  "
      ]
     },
     "execution_count": 8,
     "metadata": {},
     "output_type": "execute_result"
    }
   ],
   "source": [
    "train_data.head()"
   ]
  },
  {
   "cell_type": "code",
   "execution_count": 9,
   "metadata": {
    "id": "_ib-kvgO3qIf"
   },
   "outputs": [
    {
     "data": {
      "text/plain": [
       "array(['A/T', 'Transmission w/Dual Shift Mode', '7-Speed A/T',\n",
       "       '8-Speed A/T', '10-Speed Automatic', '1-Speed A/T', '6-Speed A/T',\n",
       "       '10-Speed A/T', '9-Speed A/T', '8-Speed Automatic',\n",
       "       '9-Speed Automatic', '5-Speed A/T', 'Automatic',\n",
       "       '7-Speed Automatic with Auto-Shift', 'CVT Transmission',\n",
       "       '5-Speed M/T', 'M/T', '6-Speed M/T', '6-Speed Automatic',\n",
       "       '4-Speed Automatic', '7-Speed M/T', '2-Speed A/T',\n",
       "       '1-Speed Automatic', 'Automatic CVT', '4-Speed A/T',\n",
       "       '6-Speed Manual', 'Transmission Overdrive Switch',\n",
       "       '8-Speed Automatic with Auto-Shift', '7-Speed Manual',\n",
       "       '7-Speed Automatic', '9-Speed Automatic with Auto-Shift',\n",
       "       '6-Speed Automatic with Auto-Shift',\n",
       "       '6-Speed Electronically Controlled Automatic with O', 'F', 'CVT-F',\n",
       "       '8-Speed Manual', 'Manual', '–', '2', '6 Speed At/Mt',\n",
       "       '5-Speed Automatic', '2-Speed Automatic', '8-SPEED A/T', '7-Speed',\n",
       "       'Variable', 'Single-Speed Fixed Gear', '8-SPEED AT',\n",
       "       '10-Speed Automatic with Overdrive', '7-Speed DCT Automatic',\n",
       "       'SCHEDULED FOR OR IN PRODUCTION', '6-Speed', '6 Speed Mt'],\n",
       "      dtype=object)"
      ]
     },
     "execution_count": 9,
     "metadata": {},
     "output_type": "execute_result"
    }
   ],
   "source": [
    "train_data['transmission'].unique()"
   ]
  },
  {
   "cell_type": "code",
   "execution_count": 10,
   "metadata": {
    "id": "Ea5Yx6KD38p4"
   },
   "outputs": [
    {
     "data": {
      "text/plain": [
       "array(['Gasoline', 'E85 Flex Fuel', nan, 'Hybrid', 'Diesel',\n",
       "       'Plug-In Hybrid', '–', 'not supported'], dtype=object)"
      ]
     },
     "execution_count": 10,
     "metadata": {},
     "output_type": "execute_result"
    }
   ],
   "source": [
    "train_data['fuel_type'].unique()"
   ]
  },
  {
   "cell_type": "code",
   "execution_count": 11,
   "metadata": {
    "colab": {
     "base_uri": "https://localhost:8080/",
     "height": 323
    },
    "executionInfo": {
     "elapsed": 152,
     "status": "ok",
     "timestamp": 1753535645426,
     "user": {
      "displayName": "Asad Wani",
      "userId": "12734280750075787149"
     },
     "user_tz": -330
    },
    "id": "bQ7ZMdc7daaQ",
    "outputId": "213349a6-8208-4fd2-efb1-35ff3f8734e7"
   },
   "outputs": [
    {
     "data": {
      "text/html": [
       "<div>\n",
       "<style scoped>\n",
       "    .dataframe tbody tr th:only-of-type {\n",
       "        vertical-align: middle;\n",
       "    }\n",
       "\n",
       "    .dataframe tbody tr th {\n",
       "        vertical-align: top;\n",
       "    }\n",
       "\n",
       "    .dataframe thead th {\n",
       "        text-align: right;\n",
       "    }\n",
       "</style>\n",
       "<table border=\"1\" class=\"dataframe\">\n",
       "  <thead>\n",
       "    <tr style=\"text-align: right;\">\n",
       "      <th></th>\n",
       "      <th>id</th>\n",
       "      <th>brand</th>\n",
       "      <th>model</th>\n",
       "      <th>model_year</th>\n",
       "      <th>milage</th>\n",
       "      <th>fuel_type</th>\n",
       "      <th>engine</th>\n",
       "      <th>transmission</th>\n",
       "      <th>ext_col</th>\n",
       "      <th>int_col</th>\n",
       "      <th>accident</th>\n",
       "      <th>clean_title</th>\n",
       "    </tr>\n",
       "  </thead>\n",
       "  <tbody>\n",
       "    <tr>\n",
       "      <th>0</th>\n",
       "      <td>188533</td>\n",
       "      <td>Land</td>\n",
       "      <td>Rover LR2 Base</td>\n",
       "      <td>2015</td>\n",
       "      <td>98000</td>\n",
       "      <td>Gasoline</td>\n",
       "      <td>240.0HP 2.0L 4 Cylinder Engine Gasoline Fuel</td>\n",
       "      <td>6-Speed A/T</td>\n",
       "      <td>White</td>\n",
       "      <td>Beige</td>\n",
       "      <td>None reported</td>\n",
       "      <td>Yes</td>\n",
       "    </tr>\n",
       "    <tr>\n",
       "      <th>1</th>\n",
       "      <td>188534</td>\n",
       "      <td>Land</td>\n",
       "      <td>Rover Defender SE</td>\n",
       "      <td>2020</td>\n",
       "      <td>9142</td>\n",
       "      <td>Hybrid</td>\n",
       "      <td>395.0HP 3.0L Straight 6 Cylinder Engine Gasoli...</td>\n",
       "      <td>8-Speed A/T</td>\n",
       "      <td>Silver</td>\n",
       "      <td>Black</td>\n",
       "      <td>None reported</td>\n",
       "      <td>Yes</td>\n",
       "    </tr>\n",
       "  </tbody>\n",
       "</table>\n",
       "</div>"
      ],
      "text/plain": [
       "       id brand              model  model_year  milage fuel_type  \\\n",
       "0  188533  Land     Rover LR2 Base        2015   98000  Gasoline   \n",
       "1  188534  Land  Rover Defender SE        2020    9142    Hybrid   \n",
       "\n",
       "                                              engine transmission ext_col  \\\n",
       "0       240.0HP 2.0L 4 Cylinder Engine Gasoline Fuel  6-Speed A/T   White   \n",
       "1  395.0HP 3.0L Straight 6 Cylinder Engine Gasoli...  8-Speed A/T  Silver   \n",
       "\n",
       "  int_col       accident clean_title  \n",
       "0   Beige  None reported         Yes  \n",
       "1   Black  None reported         Yes  "
      ]
     },
     "execution_count": 11,
     "metadata": {},
     "output_type": "execute_result"
    }
   ],
   "source": [
    "test_data.head(2)"
   ]
  },
  {
   "cell_type": "code",
   "execution_count": 12,
   "metadata": {
    "colab": {
     "base_uri": "https://localhost:8080/"
    },
    "executionInfo": {
     "elapsed": 76,
     "status": "ok",
     "timestamp": 1753535645427,
     "user": {
      "displayName": "Asad Wani",
      "userId": "12734280750075787149"
     },
     "user_tz": -330
    },
    "id": "k4cmxwwhTXwJ",
    "outputId": "bd59470d-e1bf-4e2c-cef8-76fa4ff3f3a6"
   },
   "outputs": [
    {
     "data": {
      "text/plain": [
       "array(['Gray', 'Beige', 'Black', '–', 'Blue', 'White', 'Red', 'Brown',\n",
       "       'Dark Galvanized', 'Parchment.', 'Boulder', 'Orange',\n",
       "       'Medium Earth Gray', 'Ebony', 'Canberra Beige', 'Jet Black',\n",
       "       'Silver', 'Light Platinum / Jet Black', 'Macchiato/Magmagrey',\n",
       "       'Gold', 'Cloud', 'Rioja Red', 'Global Black', 'Green',\n",
       "       'Medium Stone', 'Navy Pier', 'Dark Ash', 'BLACK', 'Portland',\n",
       "       'Sandstone', 'Canberra Beige/Black', 'Diesel Gray / Black',\n",
       "       'Sarder Brown', 'Black Onyx', 'White / Brown', 'Black/Gun Metal',\n",
       "       'Slate', 'Satin Black', 'Macchiato Beige/Black', 'Charcoal',\n",
       "       'Black / Express Red', 'Cappuccino', 'Aragon Brown', 'Parchment',\n",
       "       'Oyster W/Contrast', 'Adrenaline Red', 'Ebony.', 'Shara Beige',\n",
       "       'Graystone', 'Pearl Beige', 'Nero Ade', 'Graphite',\n",
       "       'Tan/Ebony/Ebony', 'Charcoal Black', 'Medium Ash Gray',\n",
       "       'Ebony Black', 'Light Titanium', 'Sakhir Orange', 'Tan',\n",
       "       'Rock Gray', 'Brandy', 'Carbon Black', 'Amber',\n",
       "       'Black w/Red Stitching', 'Hotspur', 'Chateau', 'Ice',\n",
       "       'Deep Garnet', 'Blk', 'Grace White', 'Oyster/Black', 'Mesa',\n",
       "       'Espresso', 'Black/Graphite', 'Ebony / Ebony Accents', 'Tan/Ebony',\n",
       "       'Ceramic', 'Medium Dark Slate', 'Graphite w/Gun Metal',\n",
       "       'Obsidian Black', 'Cocoa / Dune', 'Roast', 'Yellow',\n",
       "       'Hotspur Hide', 'Gray w/Blue Bolsters', 'Chestnut', 'Saiga Beige',\n",
       "       'ORANGE', 'Charles Blue', 'Walnut', 'Ivory / Ebony', 'Caramel',\n",
       "       'Pimento Red w/Ebony', 'Saddle Brown', 'Dark Gray',\n",
       "       'Silk Beige/Espresso Brown', 'Black / Brown',\n",
       "       'Ebony/Light Oyster Stitch', 'Ebony / Pimento',\n",
       "       'Mistral Gray / Raven', 'Giallo Taurus / Nero Ade', 'Tension',\n",
       "       'Medium Pewter', 'Black / Saddle', 'Camel Leather',\n",
       "       'Black/Saddle Brown', 'Macchiato', 'Anthracite', 'Mocha',\n",
       "       'Whisper Beige', 'Titan Black / Quarzit', 'Sahara Tan', 'Porpoise',\n",
       "       'Black/Red', 'Titan Black', 'AMG Black', 'Deep Cypress',\n",
       "       'Light Slate', 'Red / Black', 'Beluga Hide', 'Tupelo', 'Gideon',\n",
       "       'Rhapsody Blue', 'Medium Light Camel', 'Almond Beige',\n",
       "       'Black / Gray', 'Nero', 'Agave Green', 'Deep Chestnut',\n",
       "       'Dark Auburn', 'Shale', 'Silk Beige/Black', 'BEIGE', 'Magma Red',\n",
       "       'Linen', 'Black / Stone Grey', 'Sand Beige', 'Red/Black',\n",
       "       'Bianco Polar', 'Light Gray', 'Platinum', 'Sport', 'Ash',\n",
       "       'Black / Graphite', 'Nougat Brown', 'Camel', 'Mountain Brown',\n",
       "       'Pimento / Ebony', 'Classic Red', 'Sakhir Orange/Black',\n",
       "       'Cobalt Blue', 'Very Light Cashmere', 'Kyalami Orange', 'Orchid',\n",
       "       'Beluga', 'WHITE'], dtype=object)"
      ]
     },
     "execution_count": 12,
     "metadata": {},
     "output_type": "execute_result"
    }
   ],
   "source": [
    "train_data['int_col'].unique()"
   ]
  },
  {
   "cell_type": "code",
   "execution_count": 13,
   "metadata": {
    "id": "q-GGhH6pOYIz"
   },
   "outputs": [],
   "source": [
    "# engine feature extraction\n",
    "def preprocess(df):\n",
    "  df = df.copy()\n",
    "  def parse_engine(engine_str,):\n",
    "    hp = None\n",
    "    liters = None\n",
    "    # HP\n",
    "    if isinstance(engine_str,str):\n",
    "      hp_match = re.search(r'(\\d\\.?\\d+)HP',engine_str)\n",
    "      if hp_match:\n",
    "        hp = float(hp_match.group(1))\n",
    "\n",
    "      liter_match = re.search(r'(\\d\\.?\\d+)L',engine_str)\n",
    "      if liter_match:\n",
    "        liters = float(liter_match.group(1))\n",
    "    return hp,liters\n",
    "  df[['engine_HP','engine_Liters']] = df['engine'].apply(lambda x: pd.Series(parse_engine(x)))\n",
    "  df.drop('engine',axis = 1, inplace = True)\n",
    "\n",
    "  # model_year to car age\n",
    "  current_year = pd.to_datetime('today').year\n",
    "  df['car_age'] = current_year - df['model_year']\n",
    "  df.drop('model_year',axis = 1, inplace = True)\n",
    "\n",
    "  # milage to float\n",
    "  df['milage'] =pd.to_numeric(df['milage'],errors = 'coerce')\n",
    "  df['milage'] = df['milage'].fillna(df['milage'].mean())\n",
    "\n",
    "  # Replace '-' in int_col to NaN\n",
    "  df['int_col'] = df['int_col'].replace('-',np.nan)\n",
    "\n",
    "  # imputing the missing values in clean_title in train_data\n",
    "  if 'clean_title' in df.columns:\n",
    "    df['clean_title'] = df['clean_title'].fillna('Unknown')\n",
    "\n",
    "  return df\n",
    "\n",
    "\n"
   ]
  },
  {
   "cell_type": "code",
   "execution_count": 14,
   "metadata": {
    "colab": {
     "base_uri": "https://localhost:8080/"
    },
    "executionInfo": {
     "elapsed": 44721,
     "status": "ok",
     "timestamp": 1753535690114,
     "user": {
      "displayName": "Asad Wani",
      "userId": "12734280750075787149"
     },
     "user_tz": -330
    },
    "id": "RTt34AITOYCO",
    "outputId": "6ae41944-ea6d-49d8-fd99-613efeb54a0b"
   },
   "outputs": [
    {
     "name": "stdout",
     "output_type": "stream",
     "text": [
      "Starting data Preprocessing\n",
      "preprocessing complete\n"
     ]
    }
   ],
   "source": [
    "print('Starting data Preprocessing')\n",
    "train_df_processed = preprocess(train_data)\n",
    "test_df_processed = preprocess(test_data)\n",
    "print('preprocessing complete')\n",
    "\n",
    "x_train = train_df_processed.drop('price',axis = 1)\n",
    "y_train = train_df_processed['price']\n",
    "\n",
    "# hold the ids of the test data\n",
    "test_ids = test_data['id']\n",
    "x_test = test_df_processed.copy()\n",
    "# y_test = x_test['price']\n",
    "\n",
    "# dropping the id col in train and test data\n",
    "if 'id' in train_df_processed.columns:\n",
    "  x_train = x_train.drop('id',axis = 1)\n",
    "\n",
    "if 'id' in test_df_processed.columns:\n",
    "  x_test = x_test.drop('id',axis = 1)\n"
   ]
  },
  {
   "cell_type": "code",
   "execution_count": 15,
   "metadata": {
    "colab": {
     "base_uri": "https://localhost:8080/"
    },
    "executionInfo": {
     "elapsed": 35,
     "status": "ok",
     "timestamp": 1753535690173,
     "user": {
      "displayName": "Asad Wani",
      "userId": "12734280750075787149"
     },
     "user_tz": -330
    },
    "id": "HeTf7aadNbyK",
    "outputId": "020e7a11-39ca-4b7b-c17c-6e5d7dfd66ea"
   },
   "outputs": [
    {
     "name": "stdout",
     "output_type": "stream",
     "text": [
      "['brand', 'model', 'fuel_type', 'transmission', 'ext_col', 'int_col', 'accident', 'clean_title']\n",
      "['milage', 'engine_HP', 'engine_Liters', 'car_age']\n"
     ]
    }
   ],
   "source": [
    "# cataegorical and numerical columns\n",
    "cat_cols = x_train.select_dtypes(include = ['O']).columns.tolist()\n",
    "num_cols = x_train.select_dtypes(include = [np.number]).columns.tolist()\n",
    "\n",
    "print(cat_cols)\n",
    "\n",
    "print(num_cols)"
   ]
  },
  {
   "cell_type": "code",
   "execution_count": 16,
   "metadata": {
    "id": "giNp-ufBX2n8"
   },
   "outputs": [],
   "source": [
    "# encode the data using One Hot Encoder using handle_unknown = 'ignore'\n",
    "numerical_transformer = Pipeline(steps = [\n",
    "    ('imputer', SimpleImputer(strategy = 'mean'))\n",
    "])\n",
    "categorical_transformer = Pipeline(steps =[\n",
    "    ('imputer', SimpleImputer(strategy='most_frequent')),\n",
    "    ('onehot', OneHotEncoder(handle_unknown = 'ignore'))\n",
    "])\n",
    "\n",
    "preprocessor = ColumnTransformer(\n",
    "    transformers = [\n",
    "        ('num',numerical_transformer, num_cols),\n",
    "        ('cat',categorical_transformer, cat_cols)\n",
    "    ],\n",
    "    remainder = 'passthrough'\n",
    ")"
   ]
  },
  {
   "cell_type": "code",
   "execution_count": 19,
   "metadata": {
    "id": "aOiZ9johX2lL"
   },
   "outputs": [],
   "source": [
    "# model pipeline with RandomForestRegressor\n",
    "model = Pipeline(steps = [('preprocessor',preprocessor),\n",
    "                          ('regressor',RandomForestRegressor(n_estimators = 20,random_state = 42, n_jobs = -1))])"
   ]
  },
  {
   "cell_type": "code",
   "execution_count": 20,
   "metadata": {
    "colab": {
     "background_save": true,
     "base_uri": "https://localhost:8080/"
    },
    "id": "PAWRQ4exX2iL",
    "outputId": "17d50538-05e3-4406-abfa-48d513f9cc18"
   },
   "outputs": [
    {
     "name": "stdout",
     "output_type": "stream",
     "text": [
      "Starting model Training\n"
     ]
    },
    {
     "ename": "KeyboardInterrupt",
     "evalue": "",
     "output_type": "error",
     "traceback": [
      "\u001b[31m---------------------------------------------------------------------------\u001b[39m",
      "\u001b[31mKeyboardInterrupt\u001b[39m                         Traceback (most recent call last)",
      "\u001b[36mCell\u001b[39m\u001b[36m \u001b[39m\u001b[32mIn[20]\u001b[39m\u001b[32m, line 2\u001b[39m\n\u001b[32m      1\u001b[39m \u001b[38;5;28mprint\u001b[39m(\u001b[33m'\u001b[39m\u001b[33mStarting model Training\u001b[39m\u001b[33m'\u001b[39m)\n\u001b[32m----> \u001b[39m\u001b[32m2\u001b[39m \u001b[43mmodel\u001b[49m\u001b[43m.\u001b[49m\u001b[43mfit\u001b[49m\u001b[43m(\u001b[49m\u001b[43mx_train\u001b[49m\u001b[43m,\u001b[49m\u001b[43my_train\u001b[49m\u001b[43m)\u001b[49m\n\u001b[32m      3\u001b[39m \u001b[38;5;28mprint\u001b[39m(\u001b[33m'\u001b[39m\u001b[33mModel Training finished\u001b[39m\u001b[33m'\u001b[39m)\n\u001b[32m      5\u001b[39m \u001b[38;5;28mprint\u001b[39m(\u001b[33m'\u001b[39m\u001b[33mprediction train data\u001b[39m\u001b[33m'\u001b[39m)\n",
      "\u001b[36mFile \u001b[39m\u001b[32md:\\asad\\Colab Notebooks\\Notebooks\\01\\01_\\Lib\\site-packages\\sklearn\\base.py:1365\u001b[39m, in \u001b[36m_fit_context.<locals>.decorator.<locals>.wrapper\u001b[39m\u001b[34m(estimator, *args, **kwargs)\u001b[39m\n\u001b[32m   1358\u001b[39m     estimator._validate_params()\n\u001b[32m   1360\u001b[39m \u001b[38;5;28;01mwith\u001b[39;00m config_context(\n\u001b[32m   1361\u001b[39m     skip_parameter_validation=(\n\u001b[32m   1362\u001b[39m         prefer_skip_nested_validation \u001b[38;5;129;01mor\u001b[39;00m global_skip_validation\n\u001b[32m   1363\u001b[39m     )\n\u001b[32m   1364\u001b[39m ):\n\u001b[32m-> \u001b[39m\u001b[32m1365\u001b[39m     \u001b[38;5;28;01mreturn\u001b[39;00m \u001b[43mfit_method\u001b[49m\u001b[43m(\u001b[49m\u001b[43mestimator\u001b[49m\u001b[43m,\u001b[49m\u001b[43m \u001b[49m\u001b[43m*\u001b[49m\u001b[43margs\u001b[49m\u001b[43m,\u001b[49m\u001b[43m \u001b[49m\u001b[43m*\u001b[49m\u001b[43m*\u001b[49m\u001b[43mkwargs\u001b[49m\u001b[43m)\u001b[49m\n",
      "\u001b[36mFile \u001b[39m\u001b[32md:\\asad\\Colab Notebooks\\Notebooks\\01\\01_\\Lib\\site-packages\\sklearn\\pipeline.py:663\u001b[39m, in \u001b[36mPipeline.fit\u001b[39m\u001b[34m(self, X, y, **params)\u001b[39m\n\u001b[32m    657\u001b[39m     \u001b[38;5;28;01mif\u001b[39;00m \u001b[38;5;28mself\u001b[39m._final_estimator != \u001b[33m\"\u001b[39m\u001b[33mpassthrough\u001b[39m\u001b[33m\"\u001b[39m:\n\u001b[32m    658\u001b[39m         last_step_params = \u001b[38;5;28mself\u001b[39m._get_metadata_for_step(\n\u001b[32m    659\u001b[39m             step_idx=\u001b[38;5;28mlen\u001b[39m(\u001b[38;5;28mself\u001b[39m) - \u001b[32m1\u001b[39m,\n\u001b[32m    660\u001b[39m             step_params=routed_params[\u001b[38;5;28mself\u001b[39m.steps[-\u001b[32m1\u001b[39m][\u001b[32m0\u001b[39m]],\n\u001b[32m    661\u001b[39m             all_params=params,\n\u001b[32m    662\u001b[39m         )\n\u001b[32m--> \u001b[39m\u001b[32m663\u001b[39m         \u001b[38;5;28;43mself\u001b[39;49m\u001b[43m.\u001b[49m\u001b[43m_final_estimator\u001b[49m\u001b[43m.\u001b[49m\u001b[43mfit\u001b[49m\u001b[43m(\u001b[49m\u001b[43mXt\u001b[49m\u001b[43m,\u001b[49m\u001b[43m \u001b[49m\u001b[43my\u001b[49m\u001b[43m,\u001b[49m\u001b[43m \u001b[49m\u001b[43m*\u001b[49m\u001b[43m*\u001b[49m\u001b[43mlast_step_params\u001b[49m\u001b[43m[\u001b[49m\u001b[33;43m\"\u001b[39;49m\u001b[33;43mfit\u001b[39;49m\u001b[33;43m\"\u001b[39;49m\u001b[43m]\u001b[49m\u001b[43m)\u001b[49m\n\u001b[32m    665\u001b[39m \u001b[38;5;28;01mreturn\u001b[39;00m \u001b[38;5;28mself\u001b[39m\n",
      "\u001b[36mFile \u001b[39m\u001b[32md:\\asad\\Colab Notebooks\\Notebooks\\01\\01_\\Lib\\site-packages\\sklearn\\base.py:1365\u001b[39m, in \u001b[36m_fit_context.<locals>.decorator.<locals>.wrapper\u001b[39m\u001b[34m(estimator, *args, **kwargs)\u001b[39m\n\u001b[32m   1358\u001b[39m     estimator._validate_params()\n\u001b[32m   1360\u001b[39m \u001b[38;5;28;01mwith\u001b[39;00m config_context(\n\u001b[32m   1361\u001b[39m     skip_parameter_validation=(\n\u001b[32m   1362\u001b[39m         prefer_skip_nested_validation \u001b[38;5;129;01mor\u001b[39;00m global_skip_validation\n\u001b[32m   1363\u001b[39m     )\n\u001b[32m   1364\u001b[39m ):\n\u001b[32m-> \u001b[39m\u001b[32m1365\u001b[39m     \u001b[38;5;28;01mreturn\u001b[39;00m \u001b[43mfit_method\u001b[49m\u001b[43m(\u001b[49m\u001b[43mestimator\u001b[49m\u001b[43m,\u001b[49m\u001b[43m \u001b[49m\u001b[43m*\u001b[49m\u001b[43margs\u001b[49m\u001b[43m,\u001b[49m\u001b[43m \u001b[49m\u001b[43m*\u001b[49m\u001b[43m*\u001b[49m\u001b[43mkwargs\u001b[49m\u001b[43m)\u001b[49m\n",
      "\u001b[36mFile \u001b[39m\u001b[32md:\\asad\\Colab Notebooks\\Notebooks\\01\\01_\\Lib\\site-packages\\sklearn\\ensemble\\_forest.py:486\u001b[39m, in \u001b[36mBaseForest.fit\u001b[39m\u001b[34m(self, X, y, sample_weight)\u001b[39m\n\u001b[32m    475\u001b[39m trees = [\n\u001b[32m    476\u001b[39m     \u001b[38;5;28mself\u001b[39m._make_estimator(append=\u001b[38;5;28;01mFalse\u001b[39;00m, random_state=random_state)\n\u001b[32m    477\u001b[39m     \u001b[38;5;28;01mfor\u001b[39;00m i \u001b[38;5;129;01min\u001b[39;00m \u001b[38;5;28mrange\u001b[39m(n_more_estimators)\n\u001b[32m    478\u001b[39m ]\n\u001b[32m    480\u001b[39m \u001b[38;5;66;03m# Parallel loop: we prefer the threading backend as the Cython code\u001b[39;00m\n\u001b[32m    481\u001b[39m \u001b[38;5;66;03m# for fitting the trees is internally releasing the Python GIL\u001b[39;00m\n\u001b[32m    482\u001b[39m \u001b[38;5;66;03m# making threading more efficient than multiprocessing in\u001b[39;00m\n\u001b[32m    483\u001b[39m \u001b[38;5;66;03m# that case. However, for joblib 0.12+ we respect any\u001b[39;00m\n\u001b[32m    484\u001b[39m \u001b[38;5;66;03m# parallel_backend contexts set at a higher level,\u001b[39;00m\n\u001b[32m    485\u001b[39m \u001b[38;5;66;03m# since correctness does not rely on using threads.\u001b[39;00m\n\u001b[32m--> \u001b[39m\u001b[32m486\u001b[39m trees = \u001b[43mParallel\u001b[49m\u001b[43m(\u001b[49m\n\u001b[32m    487\u001b[39m \u001b[43m    \u001b[49m\u001b[43mn_jobs\u001b[49m\u001b[43m=\u001b[49m\u001b[38;5;28;43mself\u001b[39;49m\u001b[43m.\u001b[49m\u001b[43mn_jobs\u001b[49m\u001b[43m,\u001b[49m\n\u001b[32m    488\u001b[39m \u001b[43m    \u001b[49m\u001b[43mverbose\u001b[49m\u001b[43m=\u001b[49m\u001b[38;5;28;43mself\u001b[39;49m\u001b[43m.\u001b[49m\u001b[43mverbose\u001b[49m\u001b[43m,\u001b[49m\n\u001b[32m    489\u001b[39m \u001b[43m    \u001b[49m\u001b[43mprefer\u001b[49m\u001b[43m=\u001b[49m\u001b[33;43m\"\u001b[39;49m\u001b[33;43mthreads\u001b[39;49m\u001b[33;43m\"\u001b[39;49m\u001b[43m,\u001b[49m\n\u001b[32m    490\u001b[39m \u001b[43m\u001b[49m\u001b[43m)\u001b[49m\u001b[43m(\u001b[49m\n\u001b[32m    491\u001b[39m \u001b[43m    \u001b[49m\u001b[43mdelayed\u001b[49m\u001b[43m(\u001b[49m\u001b[43m_parallel_build_trees\u001b[49m\u001b[43m)\u001b[49m\u001b[43m(\u001b[49m\n\u001b[32m    492\u001b[39m \u001b[43m        \u001b[49m\u001b[43mt\u001b[49m\u001b[43m,\u001b[49m\n\u001b[32m    493\u001b[39m \u001b[43m        \u001b[49m\u001b[38;5;28;43mself\u001b[39;49m\u001b[43m.\u001b[49m\u001b[43mbootstrap\u001b[49m\u001b[43m,\u001b[49m\n\u001b[32m    494\u001b[39m \u001b[43m        \u001b[49m\u001b[43mX\u001b[49m\u001b[43m,\u001b[49m\n\u001b[32m    495\u001b[39m \u001b[43m        \u001b[49m\u001b[43my\u001b[49m\u001b[43m,\u001b[49m\n\u001b[32m    496\u001b[39m \u001b[43m        \u001b[49m\u001b[43msample_weight\u001b[49m\u001b[43m,\u001b[49m\n\u001b[32m    497\u001b[39m \u001b[43m        \u001b[49m\u001b[43mi\u001b[49m\u001b[43m,\u001b[49m\n\u001b[32m    498\u001b[39m \u001b[43m        \u001b[49m\u001b[38;5;28;43mlen\u001b[39;49m\u001b[43m(\u001b[49m\u001b[43mtrees\u001b[49m\u001b[43m)\u001b[49m\u001b[43m,\u001b[49m\n\u001b[32m    499\u001b[39m \u001b[43m        \u001b[49m\u001b[43mverbose\u001b[49m\u001b[43m=\u001b[49m\u001b[38;5;28;43mself\u001b[39;49m\u001b[43m.\u001b[49m\u001b[43mverbose\u001b[49m\u001b[43m,\u001b[49m\n\u001b[32m    500\u001b[39m \u001b[43m        \u001b[49m\u001b[43mclass_weight\u001b[49m\u001b[43m=\u001b[49m\u001b[38;5;28;43mself\u001b[39;49m\u001b[43m.\u001b[49m\u001b[43mclass_weight\u001b[49m\u001b[43m,\u001b[49m\n\u001b[32m    501\u001b[39m \u001b[43m        \u001b[49m\u001b[43mn_samples_bootstrap\u001b[49m\u001b[43m=\u001b[49m\u001b[43mn_samples_bootstrap\u001b[49m\u001b[43m,\u001b[49m\n\u001b[32m    502\u001b[39m \u001b[43m        \u001b[49m\u001b[43mmissing_values_in_feature_mask\u001b[49m\u001b[43m=\u001b[49m\u001b[43mmissing_values_in_feature_mask\u001b[49m\u001b[43m,\u001b[49m\n\u001b[32m    503\u001b[39m \u001b[43m    \u001b[49m\u001b[43m)\u001b[49m\n\u001b[32m    504\u001b[39m \u001b[43m    \u001b[49m\u001b[38;5;28;43;01mfor\u001b[39;49;00m\u001b[43m \u001b[49m\u001b[43mi\u001b[49m\u001b[43m,\u001b[49m\u001b[43m \u001b[49m\u001b[43mt\u001b[49m\u001b[43m \u001b[49m\u001b[38;5;129;43;01min\u001b[39;49;00m\u001b[43m \u001b[49m\u001b[38;5;28;43menumerate\u001b[39;49m\u001b[43m(\u001b[49m\u001b[43mtrees\u001b[49m\u001b[43m)\u001b[49m\n\u001b[32m    505\u001b[39m \u001b[43m\u001b[49m\u001b[43m)\u001b[49m\n\u001b[32m    507\u001b[39m \u001b[38;5;66;03m# Collect newly grown trees\u001b[39;00m\n\u001b[32m    508\u001b[39m \u001b[38;5;28mself\u001b[39m.estimators_.extend(trees)\n",
      "\u001b[36mFile \u001b[39m\u001b[32md:\\asad\\Colab Notebooks\\Notebooks\\01\\01_\\Lib\\site-packages\\sklearn\\utils\\parallel.py:82\u001b[39m, in \u001b[36mParallel.__call__\u001b[39m\u001b[34m(self, iterable)\u001b[39m\n\u001b[32m     73\u001b[39m warning_filters = warnings.filters\n\u001b[32m     74\u001b[39m iterable_with_config_and_warning_filters = (\n\u001b[32m     75\u001b[39m     (\n\u001b[32m     76\u001b[39m         _with_config_and_warning_filters(delayed_func, config, warning_filters),\n\u001b[32m   (...)\u001b[39m\u001b[32m     80\u001b[39m     \u001b[38;5;28;01mfor\u001b[39;00m delayed_func, args, kwargs \u001b[38;5;129;01min\u001b[39;00m iterable\n\u001b[32m     81\u001b[39m )\n\u001b[32m---> \u001b[39m\u001b[32m82\u001b[39m \u001b[38;5;28;01mreturn\u001b[39;00m \u001b[38;5;28;43msuper\u001b[39;49m\u001b[43m(\u001b[49m\u001b[43m)\u001b[49m\u001b[43m.\u001b[49m\u001b[34;43m__call__\u001b[39;49m\u001b[43m(\u001b[49m\u001b[43miterable_with_config_and_warning_filters\u001b[49m\u001b[43m)\u001b[49m\n",
      "\u001b[36mFile \u001b[39m\u001b[32md:\\asad\\Colab Notebooks\\Notebooks\\01\\01_\\Lib\\site-packages\\joblib\\parallel.py:2072\u001b[39m, in \u001b[36mParallel.__call__\u001b[39m\u001b[34m(self, iterable)\u001b[39m\n\u001b[32m   2066\u001b[39m \u001b[38;5;66;03m# The first item from the output is blank, but it makes the interpreter\u001b[39;00m\n\u001b[32m   2067\u001b[39m \u001b[38;5;66;03m# progress until it enters the Try/Except block of the generator and\u001b[39;00m\n\u001b[32m   2068\u001b[39m \u001b[38;5;66;03m# reaches the first `yield` statement. This starts the asynchronous\u001b[39;00m\n\u001b[32m   2069\u001b[39m \u001b[38;5;66;03m# dispatch of the tasks to the workers.\u001b[39;00m\n\u001b[32m   2070\u001b[39m \u001b[38;5;28mnext\u001b[39m(output)\n\u001b[32m-> \u001b[39m\u001b[32m2072\u001b[39m \u001b[38;5;28;01mreturn\u001b[39;00m output \u001b[38;5;28;01mif\u001b[39;00m \u001b[38;5;28mself\u001b[39m.return_generator \u001b[38;5;28;01melse\u001b[39;00m \u001b[38;5;28;43mlist\u001b[39;49m\u001b[43m(\u001b[49m\u001b[43moutput\u001b[49m\u001b[43m)\u001b[49m\n",
      "\u001b[36mFile \u001b[39m\u001b[32md:\\asad\\Colab Notebooks\\Notebooks\\01\\01_\\Lib\\site-packages\\joblib\\parallel.py:1682\u001b[39m, in \u001b[36mParallel._get_outputs\u001b[39m\u001b[34m(self, iterator, pre_dispatch)\u001b[39m\n\u001b[32m   1679\u001b[39m     \u001b[38;5;28;01myield\u001b[39;00m\n\u001b[32m   1681\u001b[39m     \u001b[38;5;28;01mwith\u001b[39;00m \u001b[38;5;28mself\u001b[39m._backend.retrieval_context():\n\u001b[32m-> \u001b[39m\u001b[32m1682\u001b[39m         \u001b[38;5;28;01myield from\u001b[39;00m \u001b[38;5;28mself\u001b[39m._retrieve()\n\u001b[32m   1684\u001b[39m \u001b[38;5;28;01mexcept\u001b[39;00m \u001b[38;5;167;01mGeneratorExit\u001b[39;00m:\n\u001b[32m   1685\u001b[39m     \u001b[38;5;66;03m# The generator has been garbage collected before being fully\u001b[39;00m\n\u001b[32m   1686\u001b[39m     \u001b[38;5;66;03m# consumed. This aborts the remaining tasks if possible and warn\u001b[39;00m\n\u001b[32m   1687\u001b[39m     \u001b[38;5;66;03m# the user if necessary.\u001b[39;00m\n\u001b[32m   1688\u001b[39m     \u001b[38;5;28mself\u001b[39m._exception = \u001b[38;5;28;01mTrue\u001b[39;00m\n",
      "\u001b[36mFile \u001b[39m\u001b[32md:\\asad\\Colab Notebooks\\Notebooks\\01\\01_\\Lib\\site-packages\\joblib\\parallel.py:1800\u001b[39m, in \u001b[36mParallel._retrieve\u001b[39m\u001b[34m(self)\u001b[39m\n\u001b[32m   1789\u001b[39m \u001b[38;5;28;01mif\u001b[39;00m \u001b[38;5;28mself\u001b[39m.return_ordered:\n\u001b[32m   1790\u001b[39m     \u001b[38;5;66;03m# Case ordered: wait for completion (or error) of the next job\u001b[39;00m\n\u001b[32m   1791\u001b[39m     \u001b[38;5;66;03m# that have been dispatched and not retrieved yet. If no job\u001b[39;00m\n\u001b[32m   (...)\u001b[39m\u001b[32m   1795\u001b[39m     \u001b[38;5;66;03m# control only have to be done on the amount of time the next\u001b[39;00m\n\u001b[32m   1796\u001b[39m     \u001b[38;5;66;03m# dispatched job is pending.\u001b[39;00m\n\u001b[32m   1797\u001b[39m     \u001b[38;5;28;01mif\u001b[39;00m (nb_jobs == \u001b[32m0\u001b[39m) \u001b[38;5;129;01mor\u001b[39;00m (\n\u001b[32m   1798\u001b[39m         \u001b[38;5;28mself\u001b[39m._jobs[\u001b[32m0\u001b[39m].get_status(timeout=\u001b[38;5;28mself\u001b[39m.timeout) == TASK_PENDING\n\u001b[32m   1799\u001b[39m     ):\n\u001b[32m-> \u001b[39m\u001b[32m1800\u001b[39m         \u001b[43mtime\u001b[49m\u001b[43m.\u001b[49m\u001b[43msleep\u001b[49m\u001b[43m(\u001b[49m\u001b[32;43m0.01\u001b[39;49m\u001b[43m)\u001b[49m\n\u001b[32m   1801\u001b[39m         \u001b[38;5;28;01mcontinue\u001b[39;00m\n\u001b[32m   1803\u001b[39m \u001b[38;5;28;01melif\u001b[39;00m nb_jobs == \u001b[32m0\u001b[39m:\n\u001b[32m   1804\u001b[39m     \u001b[38;5;66;03m# Case unordered: jobs are added to the list of jobs to\u001b[39;00m\n\u001b[32m   1805\u001b[39m     \u001b[38;5;66;03m# retrieve `self._jobs` only once completed or in error, which\u001b[39;00m\n\u001b[32m   (...)\u001b[39m\u001b[32m   1811\u001b[39m     \u001b[38;5;66;03m# timeouts before any other dispatched job has completed and\u001b[39;00m\n\u001b[32m   1812\u001b[39m     \u001b[38;5;66;03m# been added to `self._jobs` to be retrieved.\u001b[39;00m\n",
      "\u001b[31mKeyboardInterrupt\u001b[39m: "
     ]
    }
   ],
   "source": [
    "print('Starting model Training')\n",
    "model.fit(x_train,y_train)\n",
    "print('Model Training finished')\n",
    "\n",
    "print('prediction train data')\n",
    "train_predictions = model.predict(x_train)\n",
    "print('prediction done')\n",
    "\n",
    "print('prediction test data')\n",
    "test_predictions = model.predict(x_test)\n",
    "print('prediction done')"
   ]
  },
  {
   "cell_type": "code",
   "execution_count": null,
   "metadata": {
    "id": "2UYV2XpFX2e_"
   },
   "outputs": [],
   "source": [
    "# r2, mse scores of training and testing\n",
    "r2_train = r2_score(y_train,train_predictions)\n",
    "# r2_test = r2_score(y_test, test_predictions)\n",
    "print(f'Training data - r2 score:{r2_train:.4f}')\n",
    "# print(f'Testing data - r2 score:{r2_test:.4f}')\n",
    "\n",
    "mse_train = mean_squared_error(y_train, train_predictions)\n",
    "# mse_test = mean_squared_error(y_test, test_predictions)\n",
    "print(f'Training mse:{mse_train:.4f}')\n",
    "# print(f'Testing mse:{mse_train:.4f}')\n",
    "\n",
    "mae_train = mean_absolute_error(y_train,train_predictions)\n",
    "# mae_test = mean_absolute_error(y_test, test_predictions)\n",
    "print(f'Training mae:{mae_train:.4f}')\n",
    "# print(f'Test mae:{mae_test:.4f}')"
   ]
  },
  {
   "cell_type": "code",
   "execution_count": null,
   "metadata": {
    "id": "qGm5EZBHX2cP"
   },
   "outputs": [],
   "source": []
  }
 ],
 "metadata": {
  "colab": {
   "authorship_tag": "ABX9TyNbhEEtxLKqWe+m9EljjmK/",
   "mount_file_id": "1zb9Lwgh90QUhT0SxI9P4FXMI-yBNf8Jp",
   "provenance": []
  },
  "kernelspec": {
   "display_name": "01_",
   "language": "python",
   "name": "python3"
  },
  "language_info": {
   "codemirror_mode": {
    "name": "ipython",
    "version": 3
   },
   "file_extension": ".py",
   "mimetype": "text/x-python",
   "name": "python",
   "nbconvert_exporter": "python",
   "pygments_lexer": "ipython3",
   "version": "3.12.0"
  }
 },
 "nbformat": 4,
 "nbformat_minor": 0
}
